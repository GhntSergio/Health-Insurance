{
 "cells": [
  {
   "cell_type": "markdown",
   "metadata": {},
   "source": [
    "# Health Insurance Claims System"
   ]
  },
  {
   "cell_type": "code",
   "execution_count": 1,
   "metadata": {},
   "outputs": [],
   "source": [
    "# libraries\n",
    "import psycopg2\n",
    "import os\n",
    "import json\n",
    "import csv\n",
    "import pandas as pd\n",
    "import numpy as np\n",
    "import matplotlib.pyplot as plt\n",
    "import seaborn as sns\n",
    "import plotly.express as px\n",
    "import warnings\n",
    "\n",
    "# Supprimer les avertissements de dépréciation\n",
    "warnings.simplefilter(action='ignore', category=DeprecationWarning)\n"
   ]
  },
  {
   "cell_type": "code",
   "execution_count": 3,
   "metadata": {},
   "outputs": [],
   "source": [
    "# Charger les informations sensibles depuis le fichier JSON\n",
    "with open('C:/Users\\serge/OneDrive/Bureau/Portfolio_proj/Health Insurance/Scripts/config_file.json', 'r') as file:\n",
    "    config = json.load(file)\n",
    "\n",
    "# Extraire les informations de connexion\n",
    "dbname = config.get('dbname')\n",
    "user = config.get('user')\n",
    "password = config.get('password')\n",
    "host = config.get('host')"
   ]
  },
  {
   "cell_type": "code",
   "execution_count": 4,
   "metadata": {},
   "outputs": [],
   "source": [
    "# Se connecter à la base de données PostgreSQL\n",
    "conn = psycopg2.connect(\n",
    "    dbname=dbname,\n",
    "    user=user,\n",
    "    password=password,\n",
    "    host=host\n",
    ")\n",
    "cur = conn.cursor()"
   ]
  },
  {
   "cell_type": "code",
   "execution_count": 5,
   "metadata": {},
   "outputs": [],
   "source": [
    "# Créer un curseur pour exécuter des requêtes\n",
    "cur = conn.cursor()"
   ]
  },
  {
   "cell_type": "code",
   "execution_count": 6,
   "metadata": {},
   "outputs": [
    {
     "name": "stderr",
     "output_type": "stream",
     "text": [
      "c:\\Users\\serge\\Anaconda3\\lib\\site-packages\\pandas\\io\\sql.py:761: UserWarning: pandas only support SQLAlchemy connectable(engine/connection) ordatabase string URI or sqlite3 DBAPI2 connectionother DBAPI2 objects are not tested, please consider using SQLAlchemy\n",
      "  warnings.warn(\n"
     ]
    }
   ],
   "source": [
    "# Requête 1 : Top membres avec des détails associés\n",
    "query1 = \"\"\"\n",
    "select member.member_first_name, member.member_last_name, \n",
    "\tstatus.claim_status, \n",
    "\tprovider.provider_first_name, provider.provider_last_name, provider.network, provider.practice_name, \n",
    "\tclaims_payment.billed_amount, claims_payment.approuved_amount, claims_payment.net_payment\n",
    "\tfrom \n",
    "\t\t((((insurance.member inner join insurance.claims on member.claim_id = claims.claim_id) \n",
    "\t\t\t\tinner join insurance.status on status.status_id = claims.status_id)\n",
    "                inner join insurance.provider on provider.claim_id = member.claim_id)\n",
    "\t\t\t\tinner join insurance.claims_payment on claims_payment.claim_id = claims.claim_id)\n",
    "\twhere claims_payment.approuved_amount > 2200\n",
    "\torder by claims_payment.approuved_amount desc limit 100;\n",
    "\"\"\"\n",
    "df1 = pd.read_sql_query(query1, conn)\n",
    "\n"
   ]
  },
  {
   "cell_type": "code",
   "execution_count": 7,
   "metadata": {},
   "outputs": [
    {
     "name": "stderr",
     "output_type": "stream",
     "text": [
      "c:\\Users\\serge\\Anaconda3\\lib\\site-packages\\pandas\\io\\sql.py:761: UserWarning: pandas only support SQLAlchemy connectable(engine/connection) ordatabase string URI or sqlite3 DBAPI2 connectionother DBAPI2 objects are not tested, please consider using SQLAlchemy\n",
      "  warnings.warn(\n"
     ]
    }
   ],
   "source": [
    "# Requête 2 : Membres avec des réclamations payées\n",
    "query2 = \"\"\"\n",
    "SELECT member.member_first_name, member.member_last_name, member.member_dob, member.gender, member.claim_id,\n",
    "       status.claim_status, status.type\n",
    "FROM ((insurance.member\n",
    "INNER JOIN insurance.claims ON member.claim_id = claims.claim_id) \n",
    "INNER JOIN insurance.status ON status.status_id = claims.status_id)\n",
    "WHERE status.claim_status = 'paid'\n",
    "ORDER BY member.member_first_name;\n",
    "\"\"\"\n",
    "df2 = pd.read_sql_query(query2, conn)"
   ]
  },
  {
   "cell_type": "code",
   "execution_count": 8,
   "metadata": {},
   "outputs": [
    {
     "name": "stderr",
     "output_type": "stream",
     "text": [
      "c:\\Users\\serge\\Anaconda3\\lib\\site-packages\\pandas\\io\\sql.py:761: UserWarning: pandas only support SQLAlchemy connectable(engine/connection) ordatabase string URI or sqlite3 DBAPI2 connectionother DBAPI2 objects are not tested, please consider using SQLAlchemy\n",
      "  warnings.warn(\n"
     ]
    }
   ],
   "source": [
    "# Requête 3 : Récupérer les données\n",
    "query3 = \"\"\"\n",
    "select member.member_first_name, member.member_last_name, status.claim_status, \n",
    "\t   provider.provider_first_name, provider.provider_last_name, provider.network,\n",
    "       provider.practice_name, claims_payment.billed_amount, claims_payment.approuved_amount, claims_payment.net_payment\n",
    "\tfrom \n",
    "\t\t((((insurance.member inner join insurance.claims on member.claim_id = claims.claim_id) \n",
    "\t\t\t\tinner join insurance.status on status.status_id = claims.status_id)\n",
    "                inner join insurance.provider on provider.claim_id = member.claim_id)\n",
    "\t\t\t\tinner join insurance.claims_payment on claims_payment.claim_id = claims.claim_id)\n",
    "\twhere claims_payment.approuved_amount > 2200\n",
    "\torder by claims_payment.approuved_amount desc limit 100;\n",
    "\"\"\"\n",
    "\n",
    "df3 = pd.read_sql_query(query3, conn)"
   ]
  },
  {
   "cell_type": "code",
   "execution_count": 9,
   "metadata": {},
   "outputs": [],
   "source": [
    "# Fermer le curseur et la connexion\n",
    "cur.close()\n",
    "conn.close()"
   ]
  },
  {
   "cell_type": "code",
   "execution_count": 38,
   "metadata": {},
   "outputs": [],
   "source": [
    "# Sauvegarder les DataFrames au format CSV\n",
    "#df1.to_csv('C:/Users/serge/OneDrive/Bureau/Portfolio_proj/Health Insurance/Datasets/top_approved_claims.csv', index=False)\n",
    "#df2.to_csv('C:/Users/serge/OneDrive/Bureau/Portfolio_proj/Health Insurance/Datasets/paid_claims_member_info.csv', index=False)\n",
    "#df3.to_csv('C:/Users/serge/OneDrive/Bureau/Portfolio_proj/Health Insurance/Datasets/top_approved_customers_view.csv', index=False)\n"
   ]
  },
  {
   "cell_type": "code",
   "execution_count": 12,
   "metadata": {},
   "outputs": [
    {
     "data": {
      "text/html": [
       "<div>\n",
       "<style scoped>\n",
       "    .dataframe tbody tr th:only-of-type {\n",
       "        vertical-align: middle;\n",
       "    }\n",
       "\n",
       "    .dataframe tbody tr th {\n",
       "        vertical-align: top;\n",
       "    }\n",
       "\n",
       "    .dataframe thead th {\n",
       "        text-align: right;\n",
       "    }\n",
       "</style>\n",
       "<table border=\"1\" class=\"dataframe\">\n",
       "  <thead>\n",
       "    <tr style=\"text-align: right;\">\n",
       "      <th></th>\n",
       "      <th>member_first_name</th>\n",
       "      <th>member_last_name</th>\n",
       "      <th>claim_status</th>\n",
       "      <th>provider_first_name</th>\n",
       "      <th>provider_last_name</th>\n",
       "      <th>network</th>\n",
       "      <th>practice_name</th>\n",
       "      <th>billed_amount</th>\n",
       "      <th>approuved_amount</th>\n",
       "      <th>net_payment</th>\n",
       "    </tr>\n",
       "  </thead>\n",
       "  <tbody>\n",
       "    <tr>\n",
       "      <th>0</th>\n",
       "      <td>Marcia</td>\n",
       "      <td>Farrell</td>\n",
       "      <td>history</td>\n",
       "      <td>Harper</td>\n",
       "      <td>Ochoa</td>\n",
       "      <td>In Network</td>\n",
       "      <td>WELLCARE HOSPITAL</td>\n",
       "      <td>4785</td>\n",
       "      <td>2991</td>\n",
       "      <td>3003</td>\n",
       "    </tr>\n",
       "    <tr>\n",
       "      <th>1</th>\n",
       "      <td>Plato</td>\n",
       "      <td>Stuart</td>\n",
       "      <td>history</td>\n",
       "      <td>Cade</td>\n",
       "      <td>Conrad</td>\n",
       "      <td>In Network</td>\n",
       "      <td>ADVENT HEATH</td>\n",
       "      <td>4726</td>\n",
       "      <td>2983</td>\n",
       "      <td>2989</td>\n",
       "    </tr>\n",
       "    <tr>\n",
       "      <th>2</th>\n",
       "      <td>Eve</td>\n",
       "      <td>Spence</td>\n",
       "      <td>paid</td>\n",
       "      <td>Asher</td>\n",
       "      <td>Rodgers</td>\n",
       "      <td>In Network</td>\n",
       "      <td>VIERRA HOSPITAL</td>\n",
       "      <td>4921</td>\n",
       "      <td>2982</td>\n",
       "      <td>2995</td>\n",
       "    </tr>\n",
       "    <tr>\n",
       "      <th>3</th>\n",
       "      <td>Piper</td>\n",
       "      <td>Weber</td>\n",
       "      <td>deny</td>\n",
       "      <td>Norman</td>\n",
       "      <td>Floyd</td>\n",
       "      <td>Out Network</td>\n",
       "      <td>MEMORIAL HOSPITAL</td>\n",
       "      <td>4812</td>\n",
       "      <td>2979</td>\n",
       "      <td>2982</td>\n",
       "    </tr>\n",
       "    <tr>\n",
       "      <th>4</th>\n",
       "      <td>Jordan</td>\n",
       "      <td>Hill</td>\n",
       "      <td>paid</td>\n",
       "      <td>Nissim</td>\n",
       "      <td>Ellis</td>\n",
       "      <td>Out Network</td>\n",
       "      <td>ABC HOSPITAL</td>\n",
       "      <td>4330</td>\n",
       "      <td>2977</td>\n",
       "      <td>2988</td>\n",
       "    </tr>\n",
       "  </tbody>\n",
       "</table>\n",
       "</div>"
      ],
      "text/plain": [
       "  member_first_name member_last_name claim_status provider_first_name  \\\n",
       "0            Marcia          Farrell      history              Harper   \n",
       "1             Plato           Stuart      history                Cade   \n",
       "2               Eve           Spence         paid               Asher   \n",
       "3             Piper            Weber         deny              Norman   \n",
       "4            Jordan             Hill         paid              Nissim   \n",
       "\n",
       "  provider_last_name       network        practice_name  billed_amount  \\\n",
       "0              Ochoa   In Network    WELLCARE HOSPITAL            4785   \n",
       "1             Conrad   In Network         ADVENT HEATH            4726   \n",
       "2            Rodgers   In Network      VIERRA HOSPITAL            4921   \n",
       "3              Floyd   Out Network   MEMORIAL HOSPITAL            4812   \n",
       "4              Ellis   Out Network        ABC HOSPITAL            4330   \n",
       "\n",
       "   approuved_amount  net_payment  \n",
       "0              2991         3003  \n",
       "1              2983         2989  \n",
       "2              2982         2995  \n",
       "3              2979         2982  \n",
       "4              2977         2988  "
      ]
     },
     "execution_count": 12,
     "metadata": {},
     "output_type": "execute_result"
    }
   ],
   "source": [
    "# EDA\n",
    "df1.head()"
   ]
  },
  {
   "cell_type": "code",
   "execution_count": 13,
   "metadata": {},
   "outputs": [
    {
     "data": {
      "text/html": [
       "<div>\n",
       "<style scoped>\n",
       "    .dataframe tbody tr th:only-of-type {\n",
       "        vertical-align: middle;\n",
       "    }\n",
       "\n",
       "    .dataframe tbody tr th {\n",
       "        vertical-align: top;\n",
       "    }\n",
       "\n",
       "    .dataframe thead th {\n",
       "        text-align: right;\n",
       "    }\n",
       "</style>\n",
       "<table border=\"1\" class=\"dataframe\">\n",
       "  <thead>\n",
       "    <tr style=\"text-align: right;\">\n",
       "      <th></th>\n",
       "      <th>member_first_name</th>\n",
       "      <th>member_last_name</th>\n",
       "      <th>member_dob</th>\n",
       "      <th>gender</th>\n",
       "      <th>claim_id</th>\n",
       "      <th>claim_status</th>\n",
       "      <th>type</th>\n",
       "    </tr>\n",
       "  </thead>\n",
       "  <tbody>\n",
       "    <tr>\n",
       "      <th>0</th>\n",
       "      <td>Abigail</td>\n",
       "      <td>Mosley</td>\n",
       "      <td>1987-08-30</td>\n",
       "      <td>Female</td>\n",
       "      <td>951</td>\n",
       "      <td>paid</td>\n",
       "      <td>cl</td>\n",
       "    </tr>\n",
       "    <tr>\n",
       "      <th>1</th>\n",
       "      <td>Britanni</td>\n",
       "      <td>Sloan</td>\n",
       "      <td>1980-10-25</td>\n",
       "      <td>Male</td>\n",
       "      <td>961</td>\n",
       "      <td>paid</td>\n",
       "      <td>cl</td>\n",
       "    </tr>\n",
       "    <tr>\n",
       "      <th>2</th>\n",
       "      <td>Candice</td>\n",
       "      <td>Skinner</td>\n",
       "      <td>1981-06-28</td>\n",
       "      <td>Male</td>\n",
       "      <td>931</td>\n",
       "      <td>paid</td>\n",
       "      <td>cl</td>\n",
       "    </tr>\n",
       "    <tr>\n",
       "      <th>3</th>\n",
       "      <td>Dacey</td>\n",
       "      <td>Finch</td>\n",
       "      <td>1976-05-03</td>\n",
       "      <td>Female</td>\n",
       "      <td>946</td>\n",
       "      <td>paid</td>\n",
       "      <td>cl</td>\n",
       "    </tr>\n",
       "    <tr>\n",
       "      <th>4</th>\n",
       "      <td>Dana</td>\n",
       "      <td>Guerrero</td>\n",
       "      <td>1974-02-26</td>\n",
       "      <td>Male</td>\n",
       "      <td>901</td>\n",
       "      <td>paid</td>\n",
       "      <td>cl</td>\n",
       "    </tr>\n",
       "  </tbody>\n",
       "</table>\n",
       "</div>"
      ],
      "text/plain": [
       "  member_first_name member_last_name  member_dob    gender  claim_id  \\\n",
       "0           Abigail           Mosley  1987-08-30   Female        951   \n",
       "1          Britanni            Sloan  1980-10-25     Male        961   \n",
       "2           Candice          Skinner  1981-06-28     Male        931   \n",
       "3             Dacey            Finch  1976-05-03   Female        946   \n",
       "4              Dana         Guerrero  1974-02-26     Male        901   \n",
       "\n",
       "  claim_status type  \n",
       "0         paid   cl  \n",
       "1         paid   cl  \n",
       "2         paid   cl  \n",
       "3         paid   cl  \n",
       "4         paid   cl  "
      ]
     },
     "execution_count": 13,
     "metadata": {},
     "output_type": "execute_result"
    }
   ],
   "source": [
    "df2.head()"
   ]
  },
  {
   "cell_type": "code",
   "execution_count": 14,
   "metadata": {},
   "outputs": [
    {
     "data": {
      "text/html": [
       "<div>\n",
       "<style scoped>\n",
       "    .dataframe tbody tr th:only-of-type {\n",
       "        vertical-align: middle;\n",
       "    }\n",
       "\n",
       "    .dataframe tbody tr th {\n",
       "        vertical-align: top;\n",
       "    }\n",
       "\n",
       "    .dataframe thead th {\n",
       "        text-align: right;\n",
       "    }\n",
       "</style>\n",
       "<table border=\"1\" class=\"dataframe\">\n",
       "  <thead>\n",
       "    <tr style=\"text-align: right;\">\n",
       "      <th></th>\n",
       "      <th>member_first_name</th>\n",
       "      <th>member_last_name</th>\n",
       "      <th>claim_status</th>\n",
       "      <th>provider_first_name</th>\n",
       "      <th>provider_last_name</th>\n",
       "      <th>network</th>\n",
       "      <th>practice_name</th>\n",
       "      <th>billed_amount</th>\n",
       "      <th>approuved_amount</th>\n",
       "      <th>net_payment</th>\n",
       "    </tr>\n",
       "  </thead>\n",
       "  <tbody>\n",
       "    <tr>\n",
       "      <th>0</th>\n",
       "      <td>Marcia</td>\n",
       "      <td>Farrell</td>\n",
       "      <td>history</td>\n",
       "      <td>Harper</td>\n",
       "      <td>Ochoa</td>\n",
       "      <td>In Network</td>\n",
       "      <td>WELLCARE HOSPITAL</td>\n",
       "      <td>4785</td>\n",
       "      <td>2991</td>\n",
       "      <td>3003</td>\n",
       "    </tr>\n",
       "    <tr>\n",
       "      <th>1</th>\n",
       "      <td>Plato</td>\n",
       "      <td>Stuart</td>\n",
       "      <td>history</td>\n",
       "      <td>Cade</td>\n",
       "      <td>Conrad</td>\n",
       "      <td>In Network</td>\n",
       "      <td>ADVENT HEATH</td>\n",
       "      <td>4726</td>\n",
       "      <td>2983</td>\n",
       "      <td>2989</td>\n",
       "    </tr>\n",
       "    <tr>\n",
       "      <th>2</th>\n",
       "      <td>Eve</td>\n",
       "      <td>Spence</td>\n",
       "      <td>paid</td>\n",
       "      <td>Asher</td>\n",
       "      <td>Rodgers</td>\n",
       "      <td>In Network</td>\n",
       "      <td>VIERRA HOSPITAL</td>\n",
       "      <td>4921</td>\n",
       "      <td>2982</td>\n",
       "      <td>2995</td>\n",
       "    </tr>\n",
       "    <tr>\n",
       "      <th>3</th>\n",
       "      <td>Piper</td>\n",
       "      <td>Weber</td>\n",
       "      <td>deny</td>\n",
       "      <td>Norman</td>\n",
       "      <td>Floyd</td>\n",
       "      <td>Out Network</td>\n",
       "      <td>MEMORIAL HOSPITAL</td>\n",
       "      <td>4812</td>\n",
       "      <td>2979</td>\n",
       "      <td>2982</td>\n",
       "    </tr>\n",
       "    <tr>\n",
       "      <th>4</th>\n",
       "      <td>Jordan</td>\n",
       "      <td>Hill</td>\n",
       "      <td>paid</td>\n",
       "      <td>Nissim</td>\n",
       "      <td>Ellis</td>\n",
       "      <td>Out Network</td>\n",
       "      <td>ABC HOSPITAL</td>\n",
       "      <td>4330</td>\n",
       "      <td>2977</td>\n",
       "      <td>2988</td>\n",
       "    </tr>\n",
       "  </tbody>\n",
       "</table>\n",
       "</div>"
      ],
      "text/plain": [
       "  member_first_name member_last_name claim_status provider_first_name  \\\n",
       "0            Marcia          Farrell      history              Harper   \n",
       "1             Plato           Stuart      history                Cade   \n",
       "2               Eve           Spence         paid               Asher   \n",
       "3             Piper            Weber         deny              Norman   \n",
       "4            Jordan             Hill         paid              Nissim   \n",
       "\n",
       "  provider_last_name       network        practice_name  billed_amount  \\\n",
       "0              Ochoa   In Network    WELLCARE HOSPITAL            4785   \n",
       "1             Conrad   In Network         ADVENT HEATH            4726   \n",
       "2            Rodgers   In Network      VIERRA HOSPITAL            4921   \n",
       "3              Floyd   Out Network   MEMORIAL HOSPITAL            4812   \n",
       "4              Ellis   Out Network        ABC HOSPITAL            4330   \n",
       "\n",
       "   approuved_amount  net_payment  \n",
       "0              2991         3003  \n",
       "1              2983         2989  \n",
       "2              2982         2995  \n",
       "3              2979         2982  \n",
       "4              2977         2988  "
      ]
     },
     "execution_count": 14,
     "metadata": {},
     "output_type": "execute_result"
    }
   ],
   "source": [
    "df3.head()"
   ]
  },
  {
   "cell_type": "code",
   "execution_count": 15,
   "metadata": {},
   "outputs": [
    {
     "name": "stdout",
     "output_type": "stream",
     "text": [
      "<class 'pandas.core.frame.DataFrame'>\n",
      "RangeIndex: 71 entries, 0 to 70\n",
      "Data columns (total 10 columns):\n",
      " #   Column               Non-Null Count  Dtype \n",
      "---  ------               --------------  ----- \n",
      " 0   member_first_name    71 non-null     object\n",
      " 1   member_last_name     71 non-null     object\n",
      " 2   claim_status         71 non-null     object\n",
      " 3   provider_first_name  71 non-null     object\n",
      " 4   provider_last_name   71 non-null     object\n",
      " 5   network              71 non-null     object\n",
      " 6   practice_name        71 non-null     object\n",
      " 7   billed_amount        71 non-null     int64 \n",
      " 8   approuved_amount     71 non-null     int64 \n",
      " 9   net_payment          71 non-null     int64 \n",
      "dtypes: int64(3), object(7)\n",
      "memory usage: 5.7+ KB\n"
     ]
    }
   ],
   "source": [
    "# Afficher des informations générales sur les DataFrames\n",
    "df1.info()"
   ]
  },
  {
   "cell_type": "code",
   "execution_count": 16,
   "metadata": {},
   "outputs": [
    {
     "data": {
      "text/html": [
       "<div>\n",
       "<style scoped>\n",
       "    .dataframe tbody tr th:only-of-type {\n",
       "        vertical-align: middle;\n",
       "    }\n",
       "\n",
       "    .dataframe tbody tr th {\n",
       "        vertical-align: top;\n",
       "    }\n",
       "\n",
       "    .dataframe thead th {\n",
       "        text-align: right;\n",
       "    }\n",
       "</style>\n",
       "<table border=\"1\" class=\"dataframe\">\n",
       "  <thead>\n",
       "    <tr style=\"text-align: right;\">\n",
       "      <th></th>\n",
       "      <th>billed_amount</th>\n",
       "      <th>approuved_amount</th>\n",
       "      <th>net_payment</th>\n",
       "    </tr>\n",
       "  </thead>\n",
       "  <tbody>\n",
       "    <tr>\n",
       "      <th>count</th>\n",
       "      <td>71.000000</td>\n",
       "      <td>71.000000</td>\n",
       "      <td>71.000000</td>\n",
       "    </tr>\n",
       "    <tr>\n",
       "      <th>mean</th>\n",
       "      <td>4451.380282</td>\n",
       "      <td>2622.647887</td>\n",
       "      <td>2632.704225</td>\n",
       "    </tr>\n",
       "    <tr>\n",
       "      <th>std</th>\n",
       "      <td>315.579303</td>\n",
       "      <td>263.142444</td>\n",
       "      <td>264.165283</td>\n",
       "    </tr>\n",
       "    <tr>\n",
       "      <th>min</th>\n",
       "      <td>4000.000000</td>\n",
       "      <td>2207.000000</td>\n",
       "      <td>2215.000000</td>\n",
       "    </tr>\n",
       "    <tr>\n",
       "      <th>25%</th>\n",
       "      <td>4160.000000</td>\n",
       "      <td>2337.000000</td>\n",
       "      <td>2348.000000</td>\n",
       "    </tr>\n",
       "    <tr>\n",
       "      <th>50%</th>\n",
       "      <td>4404.000000</td>\n",
       "      <td>2655.000000</td>\n",
       "      <td>2664.000000</td>\n",
       "    </tr>\n",
       "    <tr>\n",
       "      <th>75%</th>\n",
       "      <td>4767.000000</td>\n",
       "      <td>2853.000000</td>\n",
       "      <td>2869.000000</td>\n",
       "    </tr>\n",
       "    <tr>\n",
       "      <th>max</th>\n",
       "      <td>4991.000000</td>\n",
       "      <td>2991.000000</td>\n",
       "      <td>3003.000000</td>\n",
       "    </tr>\n",
       "  </tbody>\n",
       "</table>\n",
       "</div>"
      ],
      "text/plain": [
       "       billed_amount  approuved_amount  net_payment\n",
       "count      71.000000         71.000000    71.000000\n",
       "mean     4451.380282       2622.647887  2632.704225\n",
       "std       315.579303        263.142444   264.165283\n",
       "min      4000.000000       2207.000000  2215.000000\n",
       "25%      4160.000000       2337.000000  2348.000000\n",
       "50%      4404.000000       2655.000000  2664.000000\n",
       "75%      4767.000000       2853.000000  2869.000000\n",
       "max      4991.000000       2991.000000  3003.000000"
      ]
     },
     "execution_count": 16,
     "metadata": {},
     "output_type": "execute_result"
    }
   ],
   "source": [
    "df1.describe()"
   ]
  },
  {
   "cell_type": "code",
   "execution_count": 17,
   "metadata": {},
   "outputs": [
    {
     "name": "stdout",
     "output_type": "stream",
     "text": [
      "<class 'pandas.core.frame.DataFrame'>\n",
      "RangeIndex: 19 entries, 0 to 18\n",
      "Data columns (total 7 columns):\n",
      " #   Column             Non-Null Count  Dtype \n",
      "---  ------             --------------  ----- \n",
      " 0   member_first_name  19 non-null     object\n",
      " 1   member_last_name   19 non-null     object\n",
      " 2   member_dob         19 non-null     object\n",
      " 3   gender             19 non-null     object\n",
      " 4   claim_id           19 non-null     int64 \n",
      " 5   claim_status       19 non-null     object\n",
      " 6   type               19 non-null     object\n",
      "dtypes: int64(1), object(6)\n",
      "memory usage: 1.2+ KB\n"
     ]
    }
   ],
   "source": [
    "df2.info()"
   ]
  },
  {
   "cell_type": "code",
   "execution_count": 18,
   "metadata": {},
   "outputs": [
    {
     "data": {
      "text/html": [
       "<div>\n",
       "<style scoped>\n",
       "    .dataframe tbody tr th:only-of-type {\n",
       "        vertical-align: middle;\n",
       "    }\n",
       "\n",
       "    .dataframe tbody tr th {\n",
       "        vertical-align: top;\n",
       "    }\n",
       "\n",
       "    .dataframe thead th {\n",
       "        text-align: right;\n",
       "    }\n",
       "</style>\n",
       "<table border=\"1\" class=\"dataframe\">\n",
       "  <thead>\n",
       "    <tr style=\"text-align: right;\">\n",
       "      <th></th>\n",
       "      <th>claim_id</th>\n",
       "    </tr>\n",
       "  </thead>\n",
       "  <tbody>\n",
       "    <tr>\n",
       "      <th>count</th>\n",
       "      <td>19.000000</td>\n",
       "    </tr>\n",
       "    <tr>\n",
       "      <th>mean</th>\n",
       "      <td>946.000000</td>\n",
       "    </tr>\n",
       "    <tr>\n",
       "      <th>std</th>\n",
       "      <td>28.136572</td>\n",
       "    </tr>\n",
       "    <tr>\n",
       "      <th>min</th>\n",
       "      <td>901.000000</td>\n",
       "    </tr>\n",
       "    <tr>\n",
       "      <th>25%</th>\n",
       "      <td>923.500000</td>\n",
       "    </tr>\n",
       "    <tr>\n",
       "      <th>50%</th>\n",
       "      <td>946.000000</td>\n",
       "    </tr>\n",
       "    <tr>\n",
       "      <th>75%</th>\n",
       "      <td>968.500000</td>\n",
       "    </tr>\n",
       "    <tr>\n",
       "      <th>max</th>\n",
       "      <td>991.000000</td>\n",
       "    </tr>\n",
       "  </tbody>\n",
       "</table>\n",
       "</div>"
      ],
      "text/plain": [
       "         claim_id\n",
       "count   19.000000\n",
       "mean   946.000000\n",
       "std     28.136572\n",
       "min    901.000000\n",
       "25%    923.500000\n",
       "50%    946.000000\n",
       "75%    968.500000\n",
       "max    991.000000"
      ]
     },
     "execution_count": 18,
     "metadata": {},
     "output_type": "execute_result"
    }
   ],
   "source": [
    "df2.describe()"
   ]
  },
  {
   "cell_type": "code",
   "execution_count": 19,
   "metadata": {},
   "outputs": [
    {
     "name": "stdout",
     "output_type": "stream",
     "text": [
      "<class 'pandas.core.frame.DataFrame'>\n",
      "RangeIndex: 71 entries, 0 to 70\n",
      "Data columns (total 10 columns):\n",
      " #   Column               Non-Null Count  Dtype \n",
      "---  ------               --------------  ----- \n",
      " 0   member_first_name    71 non-null     object\n",
      " 1   member_last_name     71 non-null     object\n",
      " 2   claim_status         71 non-null     object\n",
      " 3   provider_first_name  71 non-null     object\n",
      " 4   provider_last_name   71 non-null     object\n",
      " 5   network              71 non-null     object\n",
      " 6   practice_name        71 non-null     object\n",
      " 7   billed_amount        71 non-null     int64 \n",
      " 8   approuved_amount     71 non-null     int64 \n",
      " 9   net_payment          71 non-null     int64 \n",
      "dtypes: int64(3), object(7)\n",
      "memory usage: 5.7+ KB\n"
     ]
    }
   ],
   "source": [
    "df3.info()\n"
   ]
  },
  {
   "cell_type": "code",
   "execution_count": 20,
   "metadata": {},
   "outputs": [
    {
     "data": {
      "text/html": [
       "<div>\n",
       "<style scoped>\n",
       "    .dataframe tbody tr th:only-of-type {\n",
       "        vertical-align: middle;\n",
       "    }\n",
       "\n",
       "    .dataframe tbody tr th {\n",
       "        vertical-align: top;\n",
       "    }\n",
       "\n",
       "    .dataframe thead th {\n",
       "        text-align: right;\n",
       "    }\n",
       "</style>\n",
       "<table border=\"1\" class=\"dataframe\">\n",
       "  <thead>\n",
       "    <tr style=\"text-align: right;\">\n",
       "      <th></th>\n",
       "      <th>billed_amount</th>\n",
       "      <th>approuved_amount</th>\n",
       "      <th>net_payment</th>\n",
       "    </tr>\n",
       "  </thead>\n",
       "  <tbody>\n",
       "    <tr>\n",
       "      <th>count</th>\n",
       "      <td>71.000000</td>\n",
       "      <td>71.000000</td>\n",
       "      <td>71.000000</td>\n",
       "    </tr>\n",
       "    <tr>\n",
       "      <th>mean</th>\n",
       "      <td>4451.380282</td>\n",
       "      <td>2622.647887</td>\n",
       "      <td>2632.704225</td>\n",
       "    </tr>\n",
       "    <tr>\n",
       "      <th>std</th>\n",
       "      <td>315.579303</td>\n",
       "      <td>263.142444</td>\n",
       "      <td>264.165283</td>\n",
       "    </tr>\n",
       "    <tr>\n",
       "      <th>min</th>\n",
       "      <td>4000.000000</td>\n",
       "      <td>2207.000000</td>\n",
       "      <td>2215.000000</td>\n",
       "    </tr>\n",
       "    <tr>\n",
       "      <th>25%</th>\n",
       "      <td>4160.000000</td>\n",
       "      <td>2337.000000</td>\n",
       "      <td>2348.000000</td>\n",
       "    </tr>\n",
       "    <tr>\n",
       "      <th>50%</th>\n",
       "      <td>4404.000000</td>\n",
       "      <td>2655.000000</td>\n",
       "      <td>2664.000000</td>\n",
       "    </tr>\n",
       "    <tr>\n",
       "      <th>75%</th>\n",
       "      <td>4767.000000</td>\n",
       "      <td>2853.000000</td>\n",
       "      <td>2869.000000</td>\n",
       "    </tr>\n",
       "    <tr>\n",
       "      <th>max</th>\n",
       "      <td>4991.000000</td>\n",
       "      <td>2991.000000</td>\n",
       "      <td>3003.000000</td>\n",
       "    </tr>\n",
       "  </tbody>\n",
       "</table>\n",
       "</div>"
      ],
      "text/plain": [
       "       billed_amount  approuved_amount  net_payment\n",
       "count      71.000000         71.000000    71.000000\n",
       "mean     4451.380282       2622.647887  2632.704225\n",
       "std       315.579303        263.142444   264.165283\n",
       "min      4000.000000       2207.000000  2215.000000\n",
       "25%      4160.000000       2337.000000  2348.000000\n",
       "50%      4404.000000       2655.000000  2664.000000\n",
       "75%      4767.000000       2853.000000  2869.000000\n",
       "max      4991.000000       2991.000000  3003.000000"
      ]
     },
     "execution_count": 20,
     "metadata": {},
     "output_type": "execute_result"
    }
   ],
   "source": [
    "df3.describe()"
   ]
  },
  {
   "cell_type": "code",
   "execution_count": 21,
   "metadata": {},
   "outputs": [],
   "source": [
    "# Supprimer les doublons si nécessaire\n",
    "df1 = df1.drop_duplicates()\n",
    "df2 = df2.drop_duplicates()\n",
    "df3 = df3.drop_duplicates()\n",
    "\n",
    "# Convertir les colonnes en types appropriés si nécessaire\n",
    "df1['billed_amount'] = pd.to_numeric(df1['billed_amount'], errors='coerce')\n",
    "df1['approuved_amount'] = pd.to_numeric(df1['approuved_amount'], errors='coerce')\n",
    "df1['net_payment'] = pd.to_numeric(df1['net_payment'], errors='coerce')"
   ]
  },
  {
   "cell_type": "code",
   "execution_count": 22,
   "metadata": {},
   "outputs": [
    {
     "data": {
      "image/png": "[encoded data removed]",
      "text/plain": [
       "<Figure size 720x432 with 1 Axes>"
      ]
     },
     "metadata": {
      "needs_background": "light"
     },
     "output_type": "display_data"
    }
   ],
   "source": [
    "# Histogramme des montants approuvés\n",
    "plt.figure(figsize=(10, 6))\n",
    "sns.histplot(df1['approuved_amount'], bins=30, kde=True)\n",
    "plt.title('Distribution des Montants Approuvés')\n",
    "plt.xlabel('Montant Approuvé')\n",
    "plt.ylabel('Fréquence')\n",
    "plt.show()"
   ]
  },
  {
   "cell_type": "code",
   "execution_count": 23,
   "metadata": {},
   "outputs": [
    {
     "data": {
      "image/png": "[encoded data removed]",
      "text/plain": [
       "<Figure size 864x576 with 1 Axes>"
      ]
     },
     "metadata": {
      "needs_background": "light"
     },
     "output_type": "display_data"
    }
   ],
   "source": [
    "# Montants approuvés par fournisseur\n",
    "plt.figure(figsize=(12, 8))\n",
    "sns.barplot(data=df1, x='provider_first_name', y='approuved_amount', estimator=sum)\n",
    "plt.title('Montants Approuvés par Fournisseur')\n",
    "plt.xlabel('Nom du Fournisseur')\n",
    "plt.ylabel('Montant Approuvé')\n",
    "plt.xticks(rotation=90)\n",
    "plt.show()"
   ]
  },
  {
   "cell_type": "code",
   "execution_count": 24,
   "metadata": {},
   "outputs": [
    {
     "data": {
      "image/png": "[encoded data removed]",
      "text/plain": [
       "<Figure size 720x432 with 1 Axes>"
      ]
     },
     "metadata": {
      "needs_background": "light"
     },
     "output_type": "display_data"
    }
   ],
   "source": [
    "# Graphique en boîte pour les montants approuvés\n",
    "plt.figure(figsize=(10, 6))\n",
    "sns.boxplot(data=df1, x='approuved_amount')\n",
    "plt.title('Boxplot des Montants Approuvés')\n",
    "plt.xlabel('Montant Approuvé')\n",
    "plt.show()"
   ]
  },
  {
   "cell_type": "code",
   "execution_count": 25,
   "metadata": {},
   "outputs": [
    {
     "data": {
      "image/png": "[encoded data removed]",
      "text/plain": [
       "<Figure size 864x720 with 2 Axes>"
      ]
     },
     "metadata": {
      "needs_background": "light"
     },
     "output_type": "display_data"
    }
   ],
   "source": [
    "# Matrice de corrélation\n",
    "plt.figure(figsize=(12, 10))\n",
    "corr = df1[['billed_amount', 'approuved_amount', 'net_payment']].corr()\n",
    "sns.heatmap(corr, annot=True, cmap='coolwarm', fmt='.2f')\n",
    "plt.title('Matrice de Corrélation')\n",
    "plt.show()"
   ]
  },
  {
   "cell_type": "code",
   "execution_count": 26,
   "metadata": {},
   "outputs": [
    {
     "data": {
      "text/html": [
       "<div>\n",
       "<style scoped>\n",
       "    .dataframe tbody tr th:only-of-type {\n",
       "        vertical-align: middle;\n",
       "    }\n",
       "\n",
       "    .dataframe tbody tr th {\n",
       "        vertical-align: top;\n",
       "    }\n",
       "\n",
       "    .dataframe thead th {\n",
       "        text-align: right;\n",
       "    }\n",
       "</style>\n",
       "<table border=\"1\" class=\"dataframe\">\n",
       "  <thead>\n",
       "    <tr style=\"text-align: right;\">\n",
       "      <th></th>\n",
       "      <th>claim_id</th>\n",
       "    </tr>\n",
       "    <tr>\n",
       "      <th>claim_status</th>\n",
       "      <th></th>\n",
       "    </tr>\n",
       "  </thead>\n",
       "  <tbody>\n",
       "    <tr>\n",
       "      <th>paid</th>\n",
       "      <td>19</td>\n",
       "    </tr>\n",
       "  </tbody>\n",
       "</table>\n",
       "</div>"
      ],
      "text/plain": [
       "              claim_id\n",
       "claim_status          \n",
       "paid                19"
      ]
     },
     "execution_count": 26,
     "metadata": {},
     "output_type": "execute_result"
    }
   ],
   "source": [
    "# Tableau croisé dynamique des montants approuvés par statut de réclamation\n",
    "pivot_table = df2.pivot_table(values='claim_id', index='claim_status', aggfunc='count')\n",
    "pivot_table"
   ]
  },
  {
   "cell_type": "code",
   "execution_count": 27,
   "metadata": {},
   "outputs": [
    {
     "data": {
      "text/plain": [
       "<Figure size 720x432 with 0 Axes>"
      ]
     },
     "metadata": {},
     "output_type": "display_data"
    },
    {
     "data": {
      "image/png": "[encoded data removed]",
      "text/plain": [
       "<Figure size 432x288 with 1 Axes>"
      ]
     },
     "metadata": {
      "needs_background": "light"
     },
     "output_type": "display_data"
    }
   ],
   "source": [
    "# Graphique à barres pour le tableau croisé\n",
    "plt.figure(figsize=(10, 6))\n",
    "pivot_table.plot(kind='bar')\n",
    "plt.title('Nombre de Réclamations par Statut')\n",
    "plt.xlabel('Statut de Réclamation')\n",
    "plt.ylabel('Nombre de Réclamations')\n",
    "plt.show()"
   ]
  },
  {
   "cell_type": "code",
   "execution_count": 28,
   "metadata": {},
   "outputs": [
    {
     "data": {
      "image/png": "[encoded data removed]",
      "text/plain": [
       "<Figure size 864x576 with 1 Axes>"
      ]
     },
     "metadata": {
      "needs_background": "light"
     },
     "output_type": "display_data"
    }
   ],
   "source": [
    "# Comparaison des distributions\n",
    "plt.figure(figsize=(12, 8))\n",
    "sns.histplot(df1['billed_amount'], bins=30, kde=True, color='blue', label='Montant Facturé')\n",
    "sns.histplot(df1['approuved_amount'], bins=30, kde=True, color='green', label='Montant Approuvé')\n",
    "sns.histplot(df1['net_payment'], bins=30, kde=True, color='red', label='Paiement Net')\n",
    "plt.title('Distribution des Montants Facturés, Approuvés, et Paiements Nets')\n",
    "plt.xlabel('Montant')\n",
    "plt.ylabel('Fréquence')\n",
    "plt.legend()\n",
    "plt.show()"
   ]
  },
  {
   "cell_type": "code",
   "execution_count": 29,
   "metadata": {},
   "outputs": [
    {
     "data": {
      "text/html": [
       "<div>\n",
       "<style scoped>\n",
       "    .dataframe tbody tr th:only-of-type {\n",
       "        vertical-align: middle;\n",
       "    }\n",
       "\n",
       "    .dataframe tbody tr th {\n",
       "        vertical-align: top;\n",
       "    }\n",
       "\n",
       "    .dataframe thead th {\n",
       "        text-align: right;\n",
       "    }\n",
       "</style>\n",
       "<table border=\"1\" class=\"dataframe\">\n",
       "  <thead>\n",
       "    <tr style=\"text-align: right;\">\n",
       "      <th></th>\n",
       "      <th>member_first_name</th>\n",
       "      <th>member_last_name</th>\n",
       "      <th>claim_status</th>\n",
       "      <th>provider_first_name</th>\n",
       "      <th>provider_last_name</th>\n",
       "      <th>network</th>\n",
       "      <th>practice_name</th>\n",
       "      <th>billed_amount</th>\n",
       "      <th>approuved_amount</th>\n",
       "      <th>net_payment</th>\n",
       "    </tr>\n",
       "  </thead>\n",
       "  <tbody>\n",
       "    <tr>\n",
       "      <th>0</th>\n",
       "      <td>Marcia</td>\n",
       "      <td>Farrell</td>\n",
       "      <td>history</td>\n",
       "      <td>Harper</td>\n",
       "      <td>Ochoa</td>\n",
       "      <td>In Network</td>\n",
       "      <td>WELLCARE HOSPITAL</td>\n",
       "      <td>4785</td>\n",
       "      <td>2991</td>\n",
       "      <td>3003</td>\n",
       "    </tr>\n",
       "    <tr>\n",
       "      <th>1</th>\n",
       "      <td>Plato</td>\n",
       "      <td>Stuart</td>\n",
       "      <td>history</td>\n",
       "      <td>Cade</td>\n",
       "      <td>Conrad</td>\n",
       "      <td>In Network</td>\n",
       "      <td>ADVENT HEATH</td>\n",
       "      <td>4726</td>\n",
       "      <td>2983</td>\n",
       "      <td>2989</td>\n",
       "    </tr>\n",
       "    <tr>\n",
       "      <th>2</th>\n",
       "      <td>Eve</td>\n",
       "      <td>Spence</td>\n",
       "      <td>paid</td>\n",
       "      <td>Asher</td>\n",
       "      <td>Rodgers</td>\n",
       "      <td>In Network</td>\n",
       "      <td>VIERRA HOSPITAL</td>\n",
       "      <td>4921</td>\n",
       "      <td>2982</td>\n",
       "      <td>2995</td>\n",
       "    </tr>\n",
       "    <tr>\n",
       "      <th>3</th>\n",
       "      <td>Piper</td>\n",
       "      <td>Weber</td>\n",
       "      <td>deny</td>\n",
       "      <td>Norman</td>\n",
       "      <td>Floyd</td>\n",
       "      <td>Out Network</td>\n",
       "      <td>MEMORIAL HOSPITAL</td>\n",
       "      <td>4812</td>\n",
       "      <td>2979</td>\n",
       "      <td>2982</td>\n",
       "    </tr>\n",
       "    <tr>\n",
       "      <th>4</th>\n",
       "      <td>Jordan</td>\n",
       "      <td>Hill</td>\n",
       "      <td>paid</td>\n",
       "      <td>Nissim</td>\n",
       "      <td>Ellis</td>\n",
       "      <td>Out Network</td>\n",
       "      <td>ABC HOSPITAL</td>\n",
       "      <td>4330</td>\n",
       "      <td>2977</td>\n",
       "      <td>2988</td>\n",
       "    </tr>\n",
       "  </tbody>\n",
       "</table>\n",
       "</div>"
      ],
      "text/plain": [
       "  member_first_name member_last_name claim_status provider_first_name  \\\n",
       "0            Marcia          Farrell      history              Harper   \n",
       "1             Plato           Stuart      history                Cade   \n",
       "2               Eve           Spence         paid               Asher   \n",
       "3             Piper            Weber         deny              Norman   \n",
       "4            Jordan             Hill         paid              Nissim   \n",
       "\n",
       "  provider_last_name       network        practice_name  billed_amount  \\\n",
       "0              Ochoa   In Network    WELLCARE HOSPITAL            4785   \n",
       "1             Conrad   In Network         ADVENT HEATH            4726   \n",
       "2            Rodgers   In Network      VIERRA HOSPITAL            4921   \n",
       "3              Floyd   Out Network   MEMORIAL HOSPITAL            4812   \n",
       "4              Ellis   Out Network        ABC HOSPITAL            4330   \n",
       "\n",
       "   approuved_amount  net_payment  \n",
       "0              2991         3003  \n",
       "1              2983         2989  \n",
       "2              2982         2995  \n",
       "3              2979         2982  \n",
       "4              2977         2988  "
      ]
     },
     "execution_count": 29,
     "metadata": {},
     "output_type": "execute_result"
    }
   ],
   "source": [
    "df1.head()"
   ]
  },
  {
   "cell_type": "code",
   "execution_count": 30,
   "metadata": {},
   "outputs": [
    {
     "data": {
      "image/png": "[encoded data removed]",
      "text/plain": [
       "<Figure size 864x576 with 1 Axes>"
      ]
     },
     "metadata": {
      "needs_background": "light"
     },
     "output_type": "display_data"
    }
   ],
   "source": [
    "plt.figure(figsize=(12, 8))\n",
    "top_members = df1.groupby(['member_first_name', 'member_last_name'])['approuved_amount'].sum().nlargest(10)\n",
    "top_members.plot(kind='bar')\n",
    "plt.title('Top 10 Membres avec les Montants Approuvés les Plus Élevés')\n",
    "plt.xlabel('Membre')\n",
    "plt.ylabel('Montant Approuvé Total')\n",
    "plt.xticks(rotation=90)\n",
    "plt.show()\n"
   ]
  },
  {
   "cell_type": "code",
   "execution_count": 31,
   "metadata": {},
   "outputs": [
    {
     "data": {
      "image/png": "[encoded data removed]",
      "text/plain": [
       "<Figure size 864x576 with 1 Axes>"
      ]
     },
     "metadata": {
      "needs_background": "light"
     },
     "output_type": "display_data"
    }
   ],
   "source": [
    "plt.figure(figsize=(12, 8))\n",
    "top_providers = df1.groupby(['provider_first_name', 'provider_last_name'])['approuved_amount'].sum().nlargest(10)\n",
    "top_providers.plot(kind='bar')\n",
    "plt.title('Top 10 Fournisseurs avec les Montants Approuvés les Plus Élevés')\n",
    "plt.xlabel('Fournisseur')\n",
    "plt.ylabel('Montant Approuvé Total')\n",
    "plt.xticks(rotation=90)\n",
    "plt.show()\n"
   ]
  },
  {
   "cell_type": "code",
   "execution_count": 32,
   "metadata": {},
   "outputs": [
    {
     "data": {
      "image/png": "[encoded data removed]",
      "text/plain": [
       "<Figure size 720x432 with 1 Axes>"
      ]
     },
     "metadata": {
      "needs_background": "light"
     },
     "output_type": "display_data"
    }
   ],
   "source": [
    "plt.figure(figsize=(10, 6))\n",
    "sns.scatterplot(data=df1, x='billed_amount', y='approuved_amount', alpha=0.5)\n",
    "plt.title('Relation entre Montants Facturés et Approuvés')\n",
    "plt.xlabel('Montant Facturé')\n",
    "plt.ylabel('Montant Approuvé')\n",
    "plt.show()"
   ]
  }
 ],
 "metadata": {
  "kernelspec": {
   "display_name": "base",
   "language": "python",
   "name": "python3"
  },
  "language_info": {
   "codemirror_mode": {
    "name": "ipython",
    "version": 3
   },
   "file_extension": ".py",
   "mimetype": "text/x-python",
   "name": "python",
   "nbconvert_exporter": "python",
   "pygments_lexer": "ipython3",
   "version": "3.9.12"
  }
 },
 "nbformat": 4,
 "nbformat_minor": 2
}
